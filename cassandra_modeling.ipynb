{
 "cells": [
  {
   "cell_type": "markdown",
   "metadata": {},
   "source": [
    "# Part 1 Prepare csv File"
   ]
  },
  {
   "cell_type": "code",
   "execution_count": 8,
   "metadata": {},
   "outputs": [],
   "source": [
    "import pandas as pd\n",
    "import os\n",
    "import csv"
   ]
  },
  {
   "cell_type": "code",
   "execution_count": 6,
   "metadata": {},
   "outputs": [
    {
     "data": {
      "text/plain": [
       "8056"
      ]
     },
     "execution_count": 6,
     "metadata": {},
     "output_type": "execute_result"
    }
   ],
   "source": [
    "all_entries = []\n",
    "for file in os.listdir(r'C:/Users/lenovo/Downloads/udacity_data_engineering-master/udacity_data_engineering-master/p2_data_modeling_cassandra/event_data'):\n",
    "    with open(os.path.join(r'C:/Users/lenovo/Downloads/udacity_data_engineering-master/udacity_data_engineering-master/p2_data_modeling_cassandra/event_data',file),encoding='utf-8') as f:\n",
    "        reader = csv.reader(f)\n",
    "        next(reader)\n",
    "        for row in reader:\n",
    "            all_entries.append(row)\n",
    "len(all_entries)"
   ]
  },
  {
   "cell_type": "code",
   "execution_count": 11,
   "metadata": {},
   "outputs": [],
   "source": [
    "with open(os.path.join(os.getcwd(),'event_datafile_new.csv'),'w',encoding='utf-8',newline='') as f:\n",
    "    writer = csv.writer(f)\n",
    "    writer.writerow(['artist','firstName','gender','itemInSession','lastName','length',\\\n",
    "                'level','location','sessionId','song','userId'])\n",
    "    for entry in all_entries:\n",
    "        if entry[0].strip()!='':\n",
    "            writer.writerow((entry[0],entry[2],entry[3],entry[4],entry[5],entry[6],entry[7],entry[8],\n",
    "                             entry[12],entry[13],entry[16]))"
   ]
  },
  {
   "cell_type": "markdown",
   "metadata": {},
   "source": [
    "#### The new file `event_datafile_new.csv` is located within the Workspace directory. The file contains the following columns: \n",
    "- artist \n",
    "- firstName of user\n",
    "- gender of user\n",
    "- item number in session\n",
    "- last name of user\n",
    "- length of the song\n",
    "- level (paid or free song)\n",
    "- location of the user\n",
    "- sessionId\n",
    "- song title\n",
    "- userId"
   ]
  },
  {
   "cell_type": "markdown",
   "metadata": {},
   "source": [
    "# Part 2 Define Cassandra Database"
   ]
  },
  {
   "cell_type": "code",
   "execution_count": 1,
   "metadata": {},
   "outputs": [],
   "source": [
    "from cassandra.cluster import Cluster\n",
    "cluster = Cluster(['127.0.0.1'])\n",
    "session = cluster.connect()"
   ]
  },
  {
   "cell_type": "markdown",
   "metadata": {},
   "source": [
    "### Creating Database"
   ]
  },
  {
   "cell_type": "code",
   "execution_count": 15,
   "metadata": {},
   "outputs": [],
   "source": [
    "query = '''\n",
    "Create Keyspace if not exists sparkifydb\n",
    "with replication = {'class':'SimpleStrategy','replication_factor':1}\n",
    "'''\n",
    "try:\n",
    "    session.execute(query)\n",
    "except Exception as e:\n",
    "    print(e)"
   ]
  },
  {
   "cell_type": "markdown",
   "metadata": {},
   "source": [
    "### Setting Keyspace"
   ]
  },
  {
   "cell_type": "code",
   "execution_count": 6,
   "metadata": {},
   "outputs": [],
   "source": [
    "try:\n",
    "    session.set_keyspace('sparkifydb')\n",
    "except Exception as e:\n",
    "    print(e)"
   ]
  },
  {
   "cell_type": "markdown",
   "metadata": {},
   "source": [
    "### Query 1 Creating table using session_id and item_in_session"
   ]
  },
  {
   "cell_type": "code",
   "execution_count": 18,
   "metadata": {},
   "outputs": [],
   "source": [
    "query = '''\n",
    "Create table if not exists song_in_session\n",
    "(session_id INT, item_in_session INT, artist_name VARCHAR, song_title VARCHAR, song_duration DECIMAL,\n",
    "PRIMARY KEY (session_id, item_in_session))\n",
    "'''\n",
    "try:\n",
    "    session.execute(query)\n",
    "except Exception as e:\n",
    "    print(e)"
   ]
  },
  {
   "cell_type": "markdown",
   "metadata": {},
   "source": [
    "### Populating the first table using csv"
   ]
  },
  {
   "cell_type": "code",
   "execution_count": 22,
   "metadata": {},
   "outputs": [],
   "source": [
    "with open('event_datafile_new.csv',encoding='utf-8',newline='') as f:\n",
    "    reader = csv.reader(f)\n",
    "    next(reader)\n",
    "    query = '''\n",
    "    Insert into song_in_session (session_id, item_in_session, artist_name, song_title, song_duration) \n",
    "    Values (%s,%s,%s,%s,%s)'''\n",
    "    for entry in reader:\n",
    "        try:\n",
    "            session.execute(query,(int(entry[8]), int(entry[3]), entry[0], entry[9], float(entry[5])))\n",
    "        except Exception as e:\n",
    "            print(e)\n",
    "            break"
   ]
  },
  {
   "cell_type": "code",
   "execution_count": 25,
   "metadata": {},
   "outputs": [],
   "source": [
    "row = session.execute('Select * from song_in_session where session_id = 338 and item_in_session = 4')\n",
    "testing_df = pd.DataFrame(list(row))\n",
    "testing_df.columns = ['Session_id','item_in_session','artist_name','song_title','song_length']"
   ]
  },
  {
   "cell_type": "code",
   "execution_count": 26,
   "metadata": {},
   "outputs": [
    {
     "data": {
      "text/html": [
       "<div>\n",
       "<style scoped>\n",
       "    .dataframe tbody tr th:only-of-type {\n",
       "        vertical-align: middle;\n",
       "    }\n",
       "\n",
       "    .dataframe tbody tr th {\n",
       "        vertical-align: top;\n",
       "    }\n",
       "\n",
       "    .dataframe thead th {\n",
       "        text-align: right;\n",
       "    }\n",
       "</style>\n",
       "<table border=\"1\" class=\"dataframe\">\n",
       "  <thead>\n",
       "    <tr style=\"text-align: right;\">\n",
       "      <th></th>\n",
       "      <th>Session_id</th>\n",
       "      <th>item_in_session</th>\n",
       "      <th>artist_name</th>\n",
       "      <th>song_title</th>\n",
       "      <th>song_length</th>\n",
       "    </tr>\n",
       "  </thead>\n",
       "  <tbody>\n",
       "    <tr>\n",
       "      <th>0</th>\n",
       "      <td>338</td>\n",
       "      <td>4</td>\n",
       "      <td>Faithless</td>\n",
       "      <td>495.3073</td>\n",
       "      <td>Music Matters (Mark Knight Dub)</td>\n",
       "    </tr>\n",
       "  </tbody>\n",
       "</table>\n",
       "</div>"
      ],
      "text/plain": [
       "   Session_id  item_in_session artist_name song_title  \\\n",
       "0         338                4   Faithless   495.3073   \n",
       "\n",
       "                       song_length  \n",
       "0  Music Matters (Mark Knight Dub)  "
      ]
     },
     "execution_count": 26,
     "metadata": {},
     "output_type": "execute_result"
    }
   ],
   "source": [
    "testing_df"
   ]
  },
  {
   "cell_type": "markdown",
   "metadata": {},
   "source": [
    "### Query 2\n",
    "**Requested information:** \n",
    "Give only the following: name of artist, song (sorted by itemInSession) and user (first and last name) for userid = 10, sessionid = 182\n",
    "\n",
    "**Approach:**\n",
    "Since we're seeking results for a specific user and session, we'll use both `user_id` and `session_id` as a [composite partition key](https://docs.datastax.com/en/archived/cql/3.3/cql/cql_using/useCompositePartitionKeyConcept.html). And, because we need to sort the results by `item_in_session`, we'll use that as the clustering column. From the query results, we'll only display `artist_name`, `song_title`, `user_first_name` and `user_last_name` within a dataframe. "
   ]
  },
  {
   "cell_type": "code",
   "execution_count": 7,
   "metadata": {},
   "outputs": [],
   "source": [
    "query = '''\n",
    "Create table if not exists song_in_user_session\n",
    "(user_id int, session_id int, artist varchar, song varchar, first_name varchar, last_name varchar,\n",
    "primary key((user_id,session_id),song))\n",
    "'''\n",
    "try:\n",
    "    session.execute(query)\n",
    "except Exception as e:\n",
    "    print(e)"
   ]
  },
  {
   "cell_type": "markdown",
   "metadata": {},
   "source": [
    "### Putting the data in the song_in_user_session table from csv"
   ]
  },
  {
   "cell_type": "code",
   "execution_count": 10,
   "metadata": {},
   "outputs": [],
   "source": [
    "query = '''\n",
    "Insert into song_in_user_session \n",
    "(user_id, session_id, artist, song, first_name, last_name) \n",
    "values (%s,%s,%s,%s,%s,%s)\n",
    "'''\n",
    "with open('event_datafile_new.csv',encoding='utf-8') as f:\n",
    "    reader = csv.reader(f)\n",
    "    next(reader)\n",
    "    for row in reader:\n",
    "        try:\n",
    "            session.execute(query,(int(row[10]),int(row[8]),row[0],row[9],row[1],row[4]))\n",
    "        except Exception as e:\n",
    "            print(e)\n",
    "            break"
   ]
  },
  {
   "cell_type": "markdown",
   "metadata": {},
   "source": [
    "### Creating Dataframe from the table"
   ]
  },
  {
   "cell_type": "code",
   "execution_count": 56,
   "metadata": {},
   "outputs": [
    {
     "data": {
      "text/html": [
       "<style  type=\"text/css\" >\n",
       "</style><table id=\"T_0cca470c_77fe_11ea_be90_54e1ad6c8559\" ><thead>    <tr>        <th class=\"col_heading level0 col0\" >user_id</th>        <th class=\"col_heading level0 col1\" >session_id</th>        <th class=\"col_heading level0 col2\" >song</th>        <th class=\"col_heading level0 col3\" >artist</th>        <th class=\"col_heading level0 col4\" >first_name</th>        <th class=\"col_heading level0 col5\" >last_name</th>    </tr></thead><tbody>\n",
       "                <tr>\n",
       "                                <td id=\"T_0cca470c_77fe_11ea_be90_54e1ad6c8559row0_col0\" class=\"data row0 col0\" >10</td>\n",
       "                        <td id=\"T_0cca470c_77fe_11ea_be90_54e1ad6c8559row0_col1\" class=\"data row0 col1\" >182</td>\n",
       "                        <td id=\"T_0cca470c_77fe_11ea_be90_54e1ad6c8559row0_col2\" class=\"data row0 col2\" >Catch You Baby (Steve Pitron & Max Sanna Radio Edit)</td>\n",
       "                        <td id=\"T_0cca470c_77fe_11ea_be90_54e1ad6c8559row0_col3\" class=\"data row0 col3\" >Lonnie Gordon</td>\n",
       "                        <td id=\"T_0cca470c_77fe_11ea_be90_54e1ad6c8559row0_col4\" class=\"data row0 col4\" >Sylvie</td>\n",
       "                        <td id=\"T_0cca470c_77fe_11ea_be90_54e1ad6c8559row0_col5\" class=\"data row0 col5\" >Cruz</td>\n",
       "            </tr>\n",
       "            <tr>\n",
       "                                <td id=\"T_0cca470c_77fe_11ea_be90_54e1ad6c8559row1_col0\" class=\"data row1 col0\" >10</td>\n",
       "                        <td id=\"T_0cca470c_77fe_11ea_be90_54e1ad6c8559row1_col1\" class=\"data row1 col1\" >182</td>\n",
       "                        <td id=\"T_0cca470c_77fe_11ea_be90_54e1ad6c8559row1_col2\" class=\"data row1 col2\" >Greece 2000</td>\n",
       "                        <td id=\"T_0cca470c_77fe_11ea_be90_54e1ad6c8559row1_col3\" class=\"data row1 col3\" >Three Drives</td>\n",
       "                        <td id=\"T_0cca470c_77fe_11ea_be90_54e1ad6c8559row1_col4\" class=\"data row1 col4\" >Sylvie</td>\n",
       "                        <td id=\"T_0cca470c_77fe_11ea_be90_54e1ad6c8559row1_col5\" class=\"data row1 col5\" >Cruz</td>\n",
       "            </tr>\n",
       "            <tr>\n",
       "                                <td id=\"T_0cca470c_77fe_11ea_be90_54e1ad6c8559row2_col0\" class=\"data row2 col0\" >10</td>\n",
       "                        <td id=\"T_0cca470c_77fe_11ea_be90_54e1ad6c8559row2_col1\" class=\"data row2 col1\" >182</td>\n",
       "                        <td id=\"T_0cca470c_77fe_11ea_be90_54e1ad6c8559row2_col2\" class=\"data row2 col2\" >Keep On Keepin' On</td>\n",
       "                        <td id=\"T_0cca470c_77fe_11ea_be90_54e1ad6c8559row2_col3\" class=\"data row2 col3\" >Down To The Bone</td>\n",
       "                        <td id=\"T_0cca470c_77fe_11ea_be90_54e1ad6c8559row2_col4\" class=\"data row2 col4\" >Sylvie</td>\n",
       "                        <td id=\"T_0cca470c_77fe_11ea_be90_54e1ad6c8559row2_col5\" class=\"data row2 col5\" >Cruz</td>\n",
       "            </tr>\n",
       "            <tr>\n",
       "                                <td id=\"T_0cca470c_77fe_11ea_be90_54e1ad6c8559row3_col0\" class=\"data row3 col0\" >10</td>\n",
       "                        <td id=\"T_0cca470c_77fe_11ea_be90_54e1ad6c8559row3_col1\" class=\"data row3 col1\" >182</td>\n",
       "                        <td id=\"T_0cca470c_77fe_11ea_be90_54e1ad6c8559row3_col2\" class=\"data row3 col2\" >Kilometer</td>\n",
       "                        <td id=\"T_0cca470c_77fe_11ea_be90_54e1ad6c8559row3_col3\" class=\"data row3 col3\" >Sebastien Tellier</td>\n",
       "                        <td id=\"T_0cca470c_77fe_11ea_be90_54e1ad6c8559row3_col4\" class=\"data row3 col4\" >Sylvie</td>\n",
       "                        <td id=\"T_0cca470c_77fe_11ea_be90_54e1ad6c8559row3_col5\" class=\"data row3 col5\" >Cruz</td>\n",
       "            </tr>\n",
       "    </tbody></table>"
      ],
      "text/plain": [
       "<pandas.io.formats.style.Styler at 0x200884f3c18>"
      ]
     },
     "execution_count": 56,
     "metadata": {},
     "output_type": "execute_result"
    }
   ],
   "source": [
    "rows = session.execute('Select * from song_in_user_session where user_id = 10 and session_id = 182')\n",
    "df = pd.DataFrame(list(rows))\n",
    "df.style.hide_index()"
   ]
  },
  {
   "cell_type": "markdown",
   "metadata": {},
   "source": [
    "### Query 3\n",
    "**Requested information:** \n",
    "Give every user name (first and last) in my music app history who listened to the song 'All Hands Against His Own'\n",
    "\n",
    "**Approach:**\n",
    "Since we want the results to be unique based on a specific song, we'll use `song_title` as the partition key. And since we're looking for the set of users who listened to that song, we'll use `user_id` as the clustering column. From the query results, we'll only display `user_first_name` and `user_last_name` within a dataframe. "
   ]
  },
  {
   "cell_type": "code",
   "execution_count": 59,
   "metadata": {},
   "outputs": [],
   "source": [
    "query = '''CREATE TABLE IF NOT EXISTS user_song_listen \n",
    "(user_id INT, user_first_name VARCHAR, user_last_name VARCHAR, song_title VARCHAR, \n",
    "PRIMARY KEY (song_title, user_id))'''\n",
    "try:\n",
    "    session.execute(query)\n",
    "except Exception as e:\n",
    "    print(e)"
   ]
  },
  {
   "cell_type": "code",
   "execution_count": 62,
   "metadata": {},
   "outputs": [],
   "source": [
    "query = '''\n",
    "Insert into user_song_listen \n",
    "(user_id, user_first_name, user_last_name, song_title) \n",
    "values (%s,%s,%s,%s)\n",
    "'''\n",
    "with open('event_datafile_new.csv',encoding='utf-8') as f:\n",
    "    reader = csv.reader(f)\n",
    "    next(reader)\n",
    "    for row in reader:\n",
    "        try:\n",
    "            session.execute(query,(int(row[10]),row[1],row[4],row[9]))\n",
    "        except Exception as e:\n",
    "            print(e)\n",
    "            break"
   ]
  },
  {
   "cell_type": "code",
   "execution_count": 64,
   "metadata": {},
   "outputs": [
    {
     "data": {
      "text/html": [
       "<div>\n",
       "<style scoped>\n",
       "    .dataframe tbody tr th:only-of-type {\n",
       "        vertical-align: middle;\n",
       "    }\n",
       "\n",
       "    .dataframe tbody tr th {\n",
       "        vertical-align: top;\n",
       "    }\n",
       "\n",
       "    .dataframe thead th {\n",
       "        text-align: right;\n",
       "    }\n",
       "</style>\n",
       "<table border=\"1\" class=\"dataframe\">\n",
       "  <thead>\n",
       "    <tr style=\"text-align: right;\">\n",
       "      <th></th>\n",
       "      <th>song_title</th>\n",
       "      <th>user_id</th>\n",
       "      <th>user_first_name</th>\n",
       "      <th>user_last_name</th>\n",
       "    </tr>\n",
       "  </thead>\n",
       "  <tbody>\n",
       "    <tr>\n",
       "      <th>0</th>\n",
       "      <td>All Hands Against His Own</td>\n",
       "      <td>29</td>\n",
       "      <td>Jacqueline</td>\n",
       "      <td>Lynch</td>\n",
       "    </tr>\n",
       "    <tr>\n",
       "      <th>1</th>\n",
       "      <td>All Hands Against His Own</td>\n",
       "      <td>80</td>\n",
       "      <td>Tegan</td>\n",
       "      <td>Levine</td>\n",
       "    </tr>\n",
       "    <tr>\n",
       "      <th>2</th>\n",
       "      <td>All Hands Against His Own</td>\n",
       "      <td>95</td>\n",
       "      <td>Sara</td>\n",
       "      <td>Johnson</td>\n",
       "    </tr>\n",
       "  </tbody>\n",
       "</table>\n",
       "</div>"
      ],
      "text/plain": [
       "                  song_title  user_id user_first_name user_last_name\n",
       "0  All Hands Against His Own       29      Jacqueline          Lynch\n",
       "1  All Hands Against His Own       80           Tegan         Levine\n",
       "2  All Hands Against His Own       95            Sara        Johnson"
      ]
     },
     "execution_count": 64,
     "metadata": {},
     "output_type": "execute_result"
    }
   ],
   "source": [
    "records = session.execute('Select * from user_song_listen where song_title = \\'All Hands Against His Own\\'')\n",
    "df = pd.DataFrame(list(records))\n",
    "df"
   ]
  }
 ],
 "metadata": {
  "kernelspec": {
   "display_name": "Python 3",
   "language": "python",
   "name": "python3"
  },
  "language_info": {
   "codemirror_mode": {
    "name": "ipython",
    "version": 3
   },
   "file_extension": ".py",
   "mimetype": "text/x-python",
   "name": "python",
   "nbconvert_exporter": "python",
   "pygments_lexer": "ipython3",
   "version": "3.7.3"
  }
 },
 "nbformat": 4,
 "nbformat_minor": 2
}
